{
 "cells": [
  {
   "cell_type": "code",
   "execution_count": null,
   "id": "1b310624-3201-4523-aae0-17145dedfd3b",
   "metadata": {},
   "outputs": [],
   "source": [
    "import torch\n",
    "import torch.nn as nn\n",
    "import torch.nn as nn\n",
    "from torch.utils.data import Dataset, DataLoader\n",
    "from torch.nn import functional as F\n",
    "\n",
    "import pandas as pd\n",
    "\n",
    "import string\n",
    "\n",
    "from tqdm import tqdm"
   ]
  },
  {
   "cell_type": "markdown",
   "id": "f6fc40df-e080-47db-8a34-c5964bb6ba40",
   "metadata": {},
   "source": [
    "# Importing the dataset"
   ]
  },
  {
   "cell_type": "code",
   "execution_count": null,
   "id": "14cf3de7-5739-4b68-b834-02a76699aae5",
   "metadata": {},
   "outputs": [],
   "source": [
    "df_test_like = pd.read_csv(\"en/en_test_like_file.csv\")\n",
    "df_fake = pd.read_csv(\"en/en_train_fake.csv\")\n",
    "df_true = pd.read_csv(\"en/en_train_true.csv\")"
   ]
  },
  {
   "cell_type": "code",
   "execution_count": null,
   "id": "c1b4d208-fb4b-439e-93ca-480c59c4179a",
   "metadata": {},
   "outputs": [],
   "source": [
    "df = pd.concat([df_fake,df_true], ignore_index=True)"
   ]
  },
  {
   "cell_type": "code",
   "execution_count": null,
   "id": "b42d42d1-d799-4d48-88f3-3599badca415",
   "metadata": {},
   "outputs": [],
   "source": [
    "df"
   ]
  },
  {
   "cell_type": "markdown",
   "id": "4030f089-e11d-4e9c-9731-59872fc44965",
   "metadata": {},
   "source": [
    "# Text preprocessing"
   ]
  },
  {
   "cell_type": "code",
   "execution_count": null,
   "id": "e4c30599-809e-45ee-a6ae-bb77b4f60d3b",
   "metadata": {},
   "outputs": [],
   "source": [
    "def txt_preprocessing(text):\n",
    "    text = text.lower()\n",
    "    text = text.translate(str.maketrans('','',string.punctuation))\n",
    "    return text"
   ]
  }
 ],
 "metadata": {
  "kernelspec": {
   "display_name": "Python 3 (ipykernel)",
   "language": "python",
   "name": "python3"
  },
  "language_info": {
   "codemirror_mode": {
    "name": "ipython",
    "version": 3
   },
   "file_extension": ".py",
   "mimetype": "text/x-python",
   "name": "python",
   "nbconvert_exporter": "python",
   "pygments_lexer": "ipython3",
   "version": "3.11.5"
  }
 },
 "nbformat": 4,
 "nbformat_minor": 5
}
