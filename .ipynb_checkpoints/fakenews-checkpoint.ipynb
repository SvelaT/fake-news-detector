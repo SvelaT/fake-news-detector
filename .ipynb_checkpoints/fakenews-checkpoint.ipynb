{
 "cells": [
  {
   "cell_type": "code",
   "execution_count": 7,
   "id": "1b310624-3201-4523-aae0-17145dedfd3b",
   "metadata": {},
   "outputs": [],
   "source": [
    "import torch\n",
    "import torch.nn as nn\n",
    "import torch.nn as nn\n",
    "from torch.utils.data import Dataset, DataLoader\n",
    "from torch.nn import functional as F\n",
    "\n",
    "import nltk\n",
    "from nltk.tokenize import word_tokenize\n",
    "from nltk.corpus import stopwords\n",
    "\n",
    "from sklearn.model_selection import train_test_split\n",
    "from sklearn.feature_extraction.text import TfidfVectorizer, CountVectorizer\n",
    "from sklearn.neural_network import MLPClassifier\n",
    "from sklearn.metrics import accuracy_score, precision_score, recall_score, f1_score\n",
    "\n",
    "import pandas as pd\n",
    "\n",
    "import string\n",
    "\n",
    "from tqdm import tqdm"
   ]
  },
  {
   "cell_type": "code",
   "execution_count": 15,
   "id": "5ee90c80-1f88-4e71-aeea-e0fca7111f2b",
   "metadata": {},
   "outputs": [
    {
     "name": "stderr",
     "output_type": "stream",
     "text": [
      "[nltk_data] Downloading package stopwords to /home/arturo/nltk_data...\n",
      "[nltk_data]   Package stopwords is already up-to-date!\n",
      "[nltk_data] Downloading package punkt to /home/arturo/nltk_data...\n",
      "[nltk_data]   Unzipping tokenizers/punkt.zip.\n"
     ]
    },
    {
     "data": {
      "text/plain": [
       "True"
      ]
     },
     "execution_count": 15,
     "metadata": {},
     "output_type": "execute_result"
    }
   ],
   "source": [
    "nltk.download('stopwords')\n",
    "nltk.download('punkt')"
   ]
  },
  {
   "cell_type": "markdown",
   "id": "f6fc40df-e080-47db-8a34-c5964bb6ba40",
   "metadata": {},
   "source": [
    "# Importing the dataset"
   ]
  },
  {
   "cell_type": "code",
   "execution_count": 24,
   "id": "14cf3de7-5739-4b68-b834-02a76699aae5",
   "metadata": {},
   "outputs": [
    {
     "name": "stdout",
     "output_type": "stream",
     "text": [
      "Fake Samples: 18784, True Samples: 17133\n"
     ]
    }
   ],
   "source": [
    "df_test_like = pd.read_csv(\"en/en_test_like_file.csv\")\n",
    "df_fake = pd.read_csv(\"en/en_train_fake.csv\")\n",
    "df_true = pd.read_csv(\"en/en_train_true.csv\")\n",
    "\n",
    "print(f\"Fake Samples: {len(df_fake)}, True Samples: {len(df_true)}\")"
   ]
  },
  {
   "cell_type": "code",
   "execution_count": 9,
   "id": "5ccbb47d-744a-45cc-90c9-126ec862ff47",
   "metadata": {},
   "outputs": [],
   "source": [
    "#create labels for true(1) and fake(0)\n",
    "df_fake['labels']=0\n",
    "df_true['labels']=1"
   ]
  },
  {
   "cell_type": "code",
   "execution_count": 10,
   "id": "c1b4d208-fb4b-439e-93ca-480c59c4179a",
   "metadata": {},
   "outputs": [],
   "source": [
    "df = pd.concat([df_fake,df_true], ignore_index=True)"
   ]
  },
  {
   "cell_type": "code",
   "execution_count": 11,
   "id": "b42d42d1-d799-4d48-88f3-3599badca415",
   "metadata": {},
   "outputs": [
    {
     "data": {
      "text/html": [
       "<div>\n",
       "<style scoped>\n",
       "    .dataframe tbody tr th:only-of-type {\n",
       "        vertical-align: middle;\n",
       "    }\n",
       "\n",
       "    .dataframe tbody tr th {\n",
       "        vertical-align: top;\n",
       "    }\n",
       "\n",
       "    .dataframe thead th {\n",
       "        text-align: right;\n",
       "    }\n",
       "</style>\n",
       "<table border=\"1\" class=\"dataframe\">\n",
       "  <thead>\n",
       "    <tr style=\"text-align: right;\">\n",
       "      <th></th>\n",
       "      <th>title</th>\n",
       "      <th>text</th>\n",
       "      <th>subject</th>\n",
       "      <th>date</th>\n",
       "      <th>labels</th>\n",
       "    </tr>\n",
       "  </thead>\n",
       "  <tbody>\n",
       "    <tr>\n",
       "      <th>0</th>\n",
       "      <td>[VIDEO] #BlackLivesMatter Terrorists Storm Dar...</td>\n",
       "      <td>They were probably just looking for a  safe sp...</td>\n",
       "      <td>left-news</td>\n",
       "      <td>Nov 16, 2015</td>\n",
       "      <td>0</td>\n",
       "    </tr>\n",
       "    <tr>\n",
       "      <th>1</th>\n",
       "      <td>FLASHBACK: TRUMP PLANS STRATEGY Against North ...</td>\n",
       "      <td>There is no debating the fact that tensions be...</td>\n",
       "      <td>Government News</td>\n",
       "      <td>Aug 8, 2017</td>\n",
       "      <td>0</td>\n",
       "    </tr>\n",
       "    <tr>\n",
       "      <th>2</th>\n",
       "      <td>SHARIA LAWYER: Why Muslims are Less Likely to ...</td>\n",
       "      <td>Sharia lawyer and expert Daniel Akbari tells E...</td>\n",
       "      <td>left-news</td>\n",
       "      <td>May 26, 2017</td>\n",
       "      <td>0</td>\n",
       "    </tr>\n",
       "    <tr>\n",
       "      <th>3</th>\n",
       "      <td>Republican Governor Helped Kill 11 Elderly Pe...</td>\n",
       "      <td>Hurricane Irma, one of the most powerful Atlan...</td>\n",
       "      <td>News</td>\n",
       "      <td>September 25, 2017</td>\n",
       "      <td>0</td>\n",
       "    </tr>\n",
       "    <tr>\n",
       "      <th>4</th>\n",
       "      <td>NY Teacher Gives Assignment To High School Kid...</td>\n",
       "      <td>A pair of high school students who take classe...</td>\n",
       "      <td>politics</td>\n",
       "      <td>Apr 3, 2017</td>\n",
       "      <td>0</td>\n",
       "    </tr>\n",
       "    <tr>\n",
       "      <th>...</th>\n",
       "      <td>...</td>\n",
       "      <td>...</td>\n",
       "      <td>...</td>\n",
       "      <td>...</td>\n",
       "      <td>...</td>\n",
       "    </tr>\n",
       "    <tr>\n",
       "      <th>35912</th>\n",
       "      <td>Nigeria says U.S. agrees delayed $593 million ...</td>\n",
       "      <td>ABUJA (Reuters) - The United States has formal...</td>\n",
       "      <td>worldnews</td>\n",
       "      <td>December 27, 2017</td>\n",
       "      <td>1</td>\n",
       "    </tr>\n",
       "    <tr>\n",
       "      <th>35913</th>\n",
       "      <td>'Nearly man' Ramaphosa edges closer to South A...</td>\n",
       "      <td>JOHANNESBURG (Reuters) - The nearly man of Sou...</td>\n",
       "      <td>worldnews</td>\n",
       "      <td>December 18, 2017</td>\n",
       "      <td>1</td>\n",
       "    </tr>\n",
       "    <tr>\n",
       "      <th>35914</th>\n",
       "      <td>Trump says sought Flynn's resignation over sta...</td>\n",
       "      <td>WASHINGTON (Reuters) - President Donald Trump ...</td>\n",
       "      <td>politicsNews</td>\n",
       "      <td>February 16, 2017</td>\n",
       "      <td>1</td>\n",
       "    </tr>\n",
       "    <tr>\n",
       "      <th>35915</th>\n",
       "      <td>Republican tax plan would deal financial hit t...</td>\n",
       "      <td>WASHINGTON (Reuters) - The Republican tax plan...</td>\n",
       "      <td>politicsNews</td>\n",
       "      <td>November 2, 2017</td>\n",
       "      <td>1</td>\n",
       "    </tr>\n",
       "    <tr>\n",
       "      <th>35916</th>\n",
       "      <td>U.N. refugee commissioner says Australia must ...</td>\n",
       "      <td>SYDNEY (Reuters) - The U.N. High Commissioner ...</td>\n",
       "      <td>worldnews</td>\n",
       "      <td>November 1, 2017</td>\n",
       "      <td>1</td>\n",
       "    </tr>\n",
       "  </tbody>\n",
       "</table>\n",
       "<p>35917 rows × 5 columns</p>\n",
       "</div>"
      ],
      "text/plain": [
       "                                                   title  \\\n",
       "0      [VIDEO] #BlackLivesMatter Terrorists Storm Dar...   \n",
       "1      FLASHBACK: TRUMP PLANS STRATEGY Against North ...   \n",
       "2      SHARIA LAWYER: Why Muslims are Less Likely to ...   \n",
       "3       Republican Governor Helped Kill 11 Elderly Pe...   \n",
       "4      NY Teacher Gives Assignment To High School Kid...   \n",
       "...                                                  ...   \n",
       "35912  Nigeria says U.S. agrees delayed $593 million ...   \n",
       "35913  'Nearly man' Ramaphosa edges closer to South A...   \n",
       "35914  Trump says sought Flynn's resignation over sta...   \n",
       "35915  Republican tax plan would deal financial hit t...   \n",
       "35916  U.N. refugee commissioner says Australia must ...   \n",
       "\n",
       "                                                    text          subject  \\\n",
       "0      They were probably just looking for a  safe sp...        left-news   \n",
       "1      There is no debating the fact that tensions be...  Government News   \n",
       "2      Sharia lawyer and expert Daniel Akbari tells E...        left-news   \n",
       "3      Hurricane Irma, one of the most powerful Atlan...             News   \n",
       "4      A pair of high school students who take classe...         politics   \n",
       "...                                                  ...              ...   \n",
       "35912  ABUJA (Reuters) - The United States has formal...        worldnews   \n",
       "35913  JOHANNESBURG (Reuters) - The nearly man of Sou...        worldnews   \n",
       "35914  WASHINGTON (Reuters) - President Donald Trump ...     politicsNews   \n",
       "35915  WASHINGTON (Reuters) - The Republican tax plan...     politicsNews   \n",
       "35916  SYDNEY (Reuters) - The U.N. High Commissioner ...        worldnews   \n",
       "\n",
       "                     date  labels  \n",
       "0            Nov 16, 2015       0  \n",
       "1             Aug 8, 2017       0  \n",
       "2            May 26, 2017       0  \n",
       "3      September 25, 2017       0  \n",
       "4             Apr 3, 2017       0  \n",
       "...                   ...     ...  \n",
       "35912  December 27, 2017        1  \n",
       "35913  December 18, 2017        1  \n",
       "35914  February 16, 2017        1  \n",
       "35915   November 2, 2017        1  \n",
       "35916   November 1, 2017        1  \n",
       "\n",
       "[35917 rows x 5 columns]"
      ]
     },
     "execution_count": 11,
     "metadata": {},
     "output_type": "execute_result"
    }
   ],
   "source": [
    "df"
   ]
  },
  {
   "cell_type": "markdown",
   "id": "4030f089-e11d-4e9c-9731-59872fc44965",
   "metadata": {},
   "source": [
    "# Text preprocessing"
   ]
  },
  {
   "cell_type": "code",
   "execution_count": 16,
   "id": "e4c30599-809e-45ee-a6ae-bb77b4f60d3b",
   "metadata": {},
   "outputs": [],
   "source": [
    "stop_words = set(stopwords.words('english'))\n",
    "\n",
    "# Preprocessing function\n",
    "def preprocess(text):\n",
    "    tokens = word_tokenize(text.lower())\n",
    "    filtered_tokens = [word for word in tokens if word not in stop_words and word.isalpha()]\n",
    "    return ' '.join(filtered_tokens)\n",
    "\n",
    "# Apply preprocessing\n",
    "df['text'] = df['text'].apply(preprocess)"
   ]
  },
  {
   "cell_type": "code",
   "execution_count": 17,
   "id": "f9f896dd-a771-4fb5-9cfe-8b822f42a464",
   "metadata": {},
   "outputs": [
    {
     "data": {
      "text/html": [
       "<div>\n",
       "<style scoped>\n",
       "    .dataframe tbody tr th:only-of-type {\n",
       "        vertical-align: middle;\n",
       "    }\n",
       "\n",
       "    .dataframe tbody tr th {\n",
       "        vertical-align: top;\n",
       "    }\n",
       "\n",
       "    .dataframe thead th {\n",
       "        text-align: right;\n",
       "    }\n",
       "</style>\n",
       "<table border=\"1\" class=\"dataframe\">\n",
       "  <thead>\n",
       "    <tr style=\"text-align: right;\">\n",
       "      <th></th>\n",
       "      <th>title</th>\n",
       "      <th>text</th>\n",
       "      <th>subject</th>\n",
       "      <th>date</th>\n",
       "      <th>labels</th>\n",
       "    </tr>\n",
       "  </thead>\n",
       "  <tbody>\n",
       "    <tr>\n",
       "      <th>0</th>\n",
       "      <td>[VIDEO] #BlackLivesMatter Terrorists Storm Dar...</td>\n",
       "      <td>probably looking safe space study protesters d...</td>\n",
       "      <td>left-news</td>\n",
       "      <td>Nov 16, 2015</td>\n",
       "      <td>0</td>\n",
       "    </tr>\n",
       "    <tr>\n",
       "      <th>1</th>\n",
       "      <td>FLASHBACK: TRUMP PLANS STRATEGY Against North ...</td>\n",
       "      <td>debating fact tensions united states north kor...</td>\n",
       "      <td>Government News</td>\n",
       "      <td>Aug 8, 2017</td>\n",
       "      <td>0</td>\n",
       "    </tr>\n",
       "    <tr>\n",
       "      <th>2</th>\n",
       "      <td>SHARIA LAWYER: Why Muslims are Less Likely to ...</td>\n",
       "      <td>sharia lawyer expert daniel akbari tells ezra ...</td>\n",
       "      <td>left-news</td>\n",
       "      <td>May 26, 2017</td>\n",
       "      <td>0</td>\n",
       "    </tr>\n",
       "    <tr>\n",
       "      <th>3</th>\n",
       "      <td>Republican Governor Helped Kill 11 Elderly Pe...</td>\n",
       "      <td>hurricane irma one powerful atlantic storms ev...</td>\n",
       "      <td>News</td>\n",
       "      <td>September 25, 2017</td>\n",
       "      <td>0</td>\n",
       "    </tr>\n",
       "    <tr>\n",
       "      <th>4</th>\n",
       "      <td>NY Teacher Gives Assignment To High School Kid...</td>\n",
       "      <td>pair high school students take classes suny os...</td>\n",
       "      <td>politics</td>\n",
       "      <td>Apr 3, 2017</td>\n",
       "      <td>0</td>\n",
       "    </tr>\n",
       "    <tr>\n",
       "      <th>...</th>\n",
       "      <td>...</td>\n",
       "      <td>...</td>\n",
       "      <td>...</td>\n",
       "      <td>...</td>\n",
       "      <td>...</td>\n",
       "    </tr>\n",
       "    <tr>\n",
       "      <th>35912</th>\n",
       "      <td>Nigeria says U.S. agrees delayed $593 million ...</td>\n",
       "      <td>abuja reuters united states formally agreed se...</td>\n",
       "      <td>worldnews</td>\n",
       "      <td>December 27, 2017</td>\n",
       "      <td>1</td>\n",
       "    </tr>\n",
       "    <tr>\n",
       "      <th>35913</th>\n",
       "      <td>'Nearly man' Ramaphosa edges closer to South A...</td>\n",
       "      <td>johannesburg reuters nearly man south african ...</td>\n",
       "      <td>worldnews</td>\n",
       "      <td>December 18, 2017</td>\n",
       "      <td>1</td>\n",
       "    </tr>\n",
       "    <tr>\n",
       "      <th>35914</th>\n",
       "      <td>Trump says sought Flynn's resignation over sta...</td>\n",
       "      <td>washington reuters president donald trump said...</td>\n",
       "      <td>politicsNews</td>\n",
       "      <td>February 16, 2017</td>\n",
       "      <td>1</td>\n",
       "    </tr>\n",
       "    <tr>\n",
       "      <th>35915</th>\n",
       "      <td>Republican tax plan would deal financial hit t...</td>\n",
       "      <td>washington reuters republican tax plan unveile...</td>\n",
       "      <td>politicsNews</td>\n",
       "      <td>November 2, 2017</td>\n",
       "      <td>1</td>\n",
       "    </tr>\n",
       "    <tr>\n",
       "      <th>35916</th>\n",
       "      <td>U.N. refugee commissioner says Australia must ...</td>\n",
       "      <td>sydney reuters high commissioner refugees said...</td>\n",
       "      <td>worldnews</td>\n",
       "      <td>November 1, 2017</td>\n",
       "      <td>1</td>\n",
       "    </tr>\n",
       "  </tbody>\n",
       "</table>\n",
       "<p>35917 rows × 5 columns</p>\n",
       "</div>"
      ],
      "text/plain": [
       "                                                   title  \\\n",
       "0      [VIDEO] #BlackLivesMatter Terrorists Storm Dar...   \n",
       "1      FLASHBACK: TRUMP PLANS STRATEGY Against North ...   \n",
       "2      SHARIA LAWYER: Why Muslims are Less Likely to ...   \n",
       "3       Republican Governor Helped Kill 11 Elderly Pe...   \n",
       "4      NY Teacher Gives Assignment To High School Kid...   \n",
       "...                                                  ...   \n",
       "35912  Nigeria says U.S. agrees delayed $593 million ...   \n",
       "35913  'Nearly man' Ramaphosa edges closer to South A...   \n",
       "35914  Trump says sought Flynn's resignation over sta...   \n",
       "35915  Republican tax plan would deal financial hit t...   \n",
       "35916  U.N. refugee commissioner says Australia must ...   \n",
       "\n",
       "                                                    text          subject  \\\n",
       "0      probably looking safe space study protesters d...        left-news   \n",
       "1      debating fact tensions united states north kor...  Government News   \n",
       "2      sharia lawyer expert daniel akbari tells ezra ...        left-news   \n",
       "3      hurricane irma one powerful atlantic storms ev...             News   \n",
       "4      pair high school students take classes suny os...         politics   \n",
       "...                                                  ...              ...   \n",
       "35912  abuja reuters united states formally agreed se...        worldnews   \n",
       "35913  johannesburg reuters nearly man south african ...        worldnews   \n",
       "35914  washington reuters president donald trump said...     politicsNews   \n",
       "35915  washington reuters republican tax plan unveile...     politicsNews   \n",
       "35916  sydney reuters high commissioner refugees said...        worldnews   \n",
       "\n",
       "                     date  labels  \n",
       "0            Nov 16, 2015       0  \n",
       "1             Aug 8, 2017       0  \n",
       "2            May 26, 2017       0  \n",
       "3      September 25, 2017       0  \n",
       "4             Apr 3, 2017       0  \n",
       "...                   ...     ...  \n",
       "35912  December 27, 2017        1  \n",
       "35913  December 18, 2017        1  \n",
       "35914  February 16, 2017        1  \n",
       "35915   November 2, 2017        1  \n",
       "35916   November 1, 2017        1  \n",
       "\n",
       "[35917 rows x 5 columns]"
      ]
     },
     "execution_count": 17,
     "metadata": {},
     "output_type": "execute_result"
    }
   ],
   "source": [
    "df"
   ]
  },
  {
   "cell_type": "markdown",
   "id": "d8c3ccfe-16c2-4e47-a308-7ef4680d50cb",
   "metadata": {},
   "source": [
    "# Vectorizer"
   ]
  },
  {
   "cell_type": "code",
   "execution_count": 18,
   "id": "86f3587a-d164-49e2-9d69-0e6c21160f2b",
   "metadata": {},
   "outputs": [],
   "source": [
    "#count vectorizer (Bag of Words)\n",
    "#vectorizer = CountVectorizer(ngram_range=(1, 1))\n",
    "#tf idf vectorizer\n",
    "vectorizer = TfidfVectorizer(ngram_range=(1, 1))\n",
    "\n",
    "\n",
    "X = vectorizer.fit_transform(df['text'])"
   ]
  },
  {
   "cell_type": "code",
   "execution_count": 27,
   "id": "0afc65c4-39a2-41df-90d7-0d402981bb0b",
   "metadata": {},
   "outputs": [
    {
     "data": {
      "text/plain": [
       "(35917, 93077)"
      ]
     },
     "execution_count": 27,
     "metadata": {},
     "output_type": "execute_result"
    }
   ],
   "source": [
    "X.shape"
   ]
  },
  {
   "cell_type": "code",
   "execution_count": 19,
   "id": "ad0e0b2e-b79b-449d-bc9b-a2f140141961",
   "metadata": {},
   "outputs": [],
   "source": [
    "y = df['labels']\n",
    "X_train, X_test, y_train, y_test = train_test_split(X, y, test_size=0.2, random_state=42)"
   ]
  },
  {
   "cell_type": "markdown",
   "id": "802d847c-4946-412c-a6e2-cf0b4b589274",
   "metadata": {},
   "source": [
    "# Model Definition"
   ]
  },
  {
   "cell_type": "code",
   "execution_count": 28,
   "id": "b8b8bdf0-b964-42e6-b321-5abf945c23b2",
   "metadata": {},
   "outputs": [],
   "source": [
    "class LSTMModel(nn.Module):\n",
    "    def __init__(self,vocab_size,embed_dim,hidden_dim,output_dim,num_layers):\n",
    "        super(LSTMModel,self).__init__()\n",
    "        self.embedding == nn.Embedding(vocab_size, embed_dim)\n",
    "        self.lstm = nn.LSTM(embed_dim, hidden_dim, num_layers, batch_first=True)\n",
    "        self.fc = nn.Linear(hidden_dim, output_dim)\n",
    "\n",
    "    def forward(self,x):\n",
    "        z = self.embedding(x)\n",
    "        z,_ = self.lstm(x)\n",
    "        z = self.fc(z[:,-1,:])\n",
    "        return z"
   ]
  },
  {
   "cell_type": "code",
   "execution_count": 23,
   "id": "f5d57615-bcef-4be7-8d4a-e92321e42b94",
   "metadata": {},
   "outputs": [
    {
     "data": {
      "text/plain": [
       "0        probably looking safe space study protesters d...\n",
       "1        debating fact tensions united states north kor...\n",
       "2        sharia lawyer expert daniel akbari tells ezra ...\n",
       "3        hurricane irma one powerful atlantic storms ev...\n",
       "4        pair high school students take classes suny os...\n",
       "                               ...                        \n",
       "35912    abuja reuters united states formally agreed se...\n",
       "35913    johannesburg reuters nearly man south african ...\n",
       "35914    washington reuters president donald trump said...\n",
       "35915    washington reuters republican tax plan unveile...\n",
       "35916    sydney reuters high commissioner refugees said...\n",
       "Name: text, Length: 35917, dtype: object"
      ]
     },
     "execution_count": 23,
     "metadata": {},
     "output_type": "execute_result"
    }
   ],
   "source": [
    "vocab_size = \n",
    "embed_dim = \n",
    "hidden_dim = \n",
    "output_dim = \n",
    "num_layers = \n",
    "\n",
    "model = LSTMClassifier(vocab_size, embed_dim, hidden_dim, output_dim, num_layers)\n",
    "criterion = nn.CrossEntropyLoss()\n",
    "optimizer = optim.Adam(model.parameters(), lr=0.001)"
   ]
  },
  {
   "cell_type": "code",
   "execution_count": null,
   "id": "4eccdad7-2f79-47a7-9f49-f4d546137f6b",
   "metadata": {},
   "outputs": [],
   "source": []
  }
 ],
 "metadata": {
  "kernelspec": {
   "display_name": "Python 3 (ipykernel)",
   "language": "python",
   "name": "python3"
  },
  "language_info": {
   "codemirror_mode": {
    "name": "ipython",
    "version": 3
   },
   "file_extension": ".py",
   "mimetype": "text/x-python",
   "name": "python",
   "nbconvert_exporter": "python",
   "pygments_lexer": "ipython3",
   "version": "3.11.6"
  }
 },
 "nbformat": 4,
 "nbformat_minor": 5
}
